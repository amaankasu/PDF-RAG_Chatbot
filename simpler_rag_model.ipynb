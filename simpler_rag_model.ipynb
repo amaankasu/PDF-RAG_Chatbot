{
 "cells": [
  {
   "cell_type": "code",
   "execution_count": 10,
   "metadata": {},
   "outputs": [
    {
     "name": "stdout",
     "output_type": "stream",
     "text": [
      "Requirement already satisfied: aiohappyeyeballs==2.4.6 in c:\\users\\amaan\\desktop\\rag chatbot\\basic_rag_venv\\lib\\site-packages (from -r basic_rag_requirements.txt (line 1)) (2.4.6)\n",
      "Requirement already satisfied: aiohttp==3.11.13 in c:\\users\\amaan\\desktop\\rag chatbot\\basic_rag_venv\\lib\\site-packages (from -r basic_rag_requirements.txt (line 2)) (3.11.13)\n",
      "Requirement already satisfied: aiosignal==1.3.2 in c:\\users\\amaan\\desktop\\rag chatbot\\basic_rag_venv\\lib\\site-packages (from -r basic_rag_requirements.txt (line 3)) (1.3.2)\n",
      "Requirement already satisfied: annotated-types==0.7.0 in c:\\users\\amaan\\desktop\\rag chatbot\\basic_rag_venv\\lib\\site-packages (from -r basic_rag_requirements.txt (line 4)) (0.7.0)\n",
      "Requirement already satisfied: anyio==4.8.0 in c:\\users\\amaan\\desktop\\rag chatbot\\basic_rag_venv\\lib\\site-packages (from -r basic_rag_requirements.txt (line 5)) (4.8.0)\n",
      "Requirement already satisfied: asttokens==3.0.0 in c:\\users\\amaan\\desktop\\rag chatbot\\basic_rag_venv\\lib\\site-packages (from -r basic_rag_requirements.txt (line 6)) (3.0.0)\n",
      "Requirement already satisfied: attrs==25.1.0 in c:\\users\\amaan\\desktop\\rag chatbot\\basic_rag_venv\\lib\\site-packages (from -r basic_rag_requirements.txt (line 7)) (25.1.0)\n",
      "Requirement already satisfied: blis==1.2.0 in c:\\users\\amaan\\desktop\\rag chatbot\\basic_rag_venv\\lib\\site-packages (from -r basic_rag_requirements.txt (line 8)) (1.2.0)\n",
      "Requirement already satisfied: catalogue==2.0.10 in c:\\users\\amaan\\desktop\\rag chatbot\\basic_rag_venv\\lib\\site-packages (from -r basic_rag_requirements.txt (line 9)) (2.0.10)\n",
      "Requirement already satisfied: certifi==2025.1.31 in c:\\users\\amaan\\desktop\\rag chatbot\\basic_rag_venv\\lib\\site-packages (from -r basic_rag_requirements.txt (line 10)) (2025.1.31)\n",
      "Requirement already satisfied: charset-normalizer==3.4.1 in c:\\users\\amaan\\desktop\\rag chatbot\\basic_rag_venv\\lib\\site-packages (from -r basic_rag_requirements.txt (line 11)) (3.4.1)\n",
      "Requirement already satisfied: click==8.1.8 in c:\\users\\amaan\\desktop\\rag chatbot\\basic_rag_venv\\lib\\site-packages (from -r basic_rag_requirements.txt (line 12)) (8.1.8)\n",
      "Requirement already satisfied: cloudpathlib==0.20.0 in c:\\users\\amaan\\desktop\\rag chatbot\\basic_rag_venv\\lib\\site-packages (from -r basic_rag_requirements.txt (line 13)) (0.20.0)\n",
      "Requirement already satisfied: colorama==0.4.6 in c:\\users\\amaan\\desktop\\rag chatbot\\basic_rag_venv\\lib\\site-packages (from -r basic_rag_requirements.txt (line 14)) (0.4.6)\n",
      "Requirement already satisfied: comm==0.2.2 in c:\\users\\amaan\\desktop\\rag chatbot\\basic_rag_venv\\lib\\site-packages (from -r basic_rag_requirements.txt (line 15)) (0.2.2)\n",
      "Requirement already satisfied: confection==0.1.5 in c:\\users\\amaan\\desktop\\rag chatbot\\basic_rag_venv\\lib\\site-packages (from -r basic_rag_requirements.txt (line 16)) (0.1.5)\n",
      "Requirement already satisfied: cymem==2.0.11 in c:\\users\\amaan\\desktop\\rag chatbot\\basic_rag_venv\\lib\\site-packages (from -r basic_rag_requirements.txt (line 17)) (2.0.11)\n",
      "Requirement already satisfied: dataclasses-json==0.6.7 in c:\\users\\amaan\\desktop\\rag chatbot\\basic_rag_venv\\lib\\site-packages (from -r basic_rag_requirements.txt (line 18)) (0.6.7)\n",
      "Requirement already satisfied: debugpy==1.8.12 in c:\\users\\amaan\\desktop\\rag chatbot\\basic_rag_venv\\lib\\site-packages (from -r basic_rag_requirements.txt (line 19)) (1.8.12)\n",
      "Requirement already satisfied: decorator==5.2.1 in c:\\users\\amaan\\desktop\\rag chatbot\\basic_rag_venv\\lib\\site-packages (from -r basic_rag_requirements.txt (line 20)) (5.2.1)\n",
      "Requirement already satisfied: Deprecated==1.2.18 in c:\\users\\amaan\\desktop\\rag chatbot\\basic_rag_venv\\lib\\site-packages (from -r basic_rag_requirements.txt (line 21)) (1.2.18)\n",
      "Requirement already satisfied: dirtyjson==1.0.8 in c:\\users\\amaan\\desktop\\rag chatbot\\basic_rag_venv\\lib\\site-packages (from -r basic_rag_requirements.txt (line 22)) (1.0.8)\n",
      "Requirement already satisfied: distro==1.9.0 in c:\\users\\amaan\\desktop\\rag chatbot\\basic_rag_venv\\lib\\site-packages (from -r basic_rag_requirements.txt (line 23)) (1.9.0)\n",
      "Requirement already satisfied: executing==2.2.0 in c:\\users\\amaan\\desktop\\rag chatbot\\basic_rag_venv\\lib\\site-packages (from -r basic_rag_requirements.txt (line 24)) (2.2.0)\n",
      "Requirement already satisfied: faiss-cpu==1.10.0 in c:\\users\\amaan\\desktop\\rag chatbot\\basic_rag_venv\\lib\\site-packages (from -r basic_rag_requirements.txt (line 25)) (1.10.0)\n",
      "Requirement already satisfied: filelock==3.17.0 in c:\\users\\amaan\\desktop\\rag chatbot\\basic_rag_venv\\lib\\site-packages (from -r basic_rag_requirements.txt (line 26)) (3.17.0)\n",
      "Requirement already satisfied: frozenlist==1.5.0 in c:\\users\\amaan\\desktop\\rag chatbot\\basic_rag_venv\\lib\\site-packages (from -r basic_rag_requirements.txt (line 27)) (1.5.0)\n",
      "Requirement already satisfied: fsspec==2025.2.0 in c:\\users\\amaan\\desktop\\rag chatbot\\basic_rag_venv\\lib\\site-packages (from -r basic_rag_requirements.txt (line 28)) (2025.2.0)\n",
      "Requirement already satisfied: greenlet==3.1.1 in c:\\users\\amaan\\desktop\\rag chatbot\\basic_rag_venv\\lib\\site-packages (from -r basic_rag_requirements.txt (line 29)) (3.1.1)\n",
      "Requirement already satisfied: h11==0.14.0 in c:\\users\\amaan\\desktop\\rag chatbot\\basic_rag_venv\\lib\\site-packages (from -r basic_rag_requirements.txt (line 30)) (0.14.0)\n",
      "Requirement already satisfied: httpcore==1.0.7 in c:\\users\\amaan\\desktop\\rag chatbot\\basic_rag_venv\\lib\\site-packages (from -r basic_rag_requirements.txt (line 31)) (1.0.7)\n",
      "Requirement already satisfied: httpx==0.28.1 in c:\\users\\amaan\\desktop\\rag chatbot\\basic_rag_venv\\lib\\site-packages (from -r basic_rag_requirements.txt (line 32)) (0.28.1)\n",
      "Requirement already satisfied: huggingface-hub==0.29.1 in c:\\users\\amaan\\desktop\\rag chatbot\\basic_rag_venv\\lib\\site-packages (from -r basic_rag_requirements.txt (line 33)) (0.29.1)\n",
      "Requirement already satisfied: idna==3.10 in c:\\users\\amaan\\desktop\\rag chatbot\\basic_rag_venv\\lib\\site-packages (from -r basic_rag_requirements.txt (line 34)) (3.10)\n",
      "Requirement already satisfied: ipykernel==6.29.5 in c:\\users\\amaan\\desktop\\rag chatbot\\basic_rag_venv\\lib\\site-packages (from -r basic_rag_requirements.txt (line 35)) (6.29.5)\n",
      "Requirement already satisfied: ipython==9.0.0 in c:\\users\\amaan\\desktop\\rag chatbot\\basic_rag_venv\\lib\\site-packages (from -r basic_rag_requirements.txt (line 36)) (9.0.0)\n",
      "Requirement already satisfied: ipython_pygments_lexers==1.1.1 in c:\\users\\amaan\\desktop\\rag chatbot\\basic_rag_venv\\lib\\site-packages (from -r basic_rag_requirements.txt (line 37)) (1.1.1)\n",
      "Requirement already satisfied: jedi==0.19.2 in c:\\users\\amaan\\desktop\\rag chatbot\\basic_rag_venv\\lib\\site-packages (from -r basic_rag_requirements.txt (line 38)) (0.19.2)\n",
      "Requirement already satisfied: Jinja2==3.1.5 in c:\\users\\amaan\\desktop\\rag chatbot\\basic_rag_venv\\lib\\site-packages (from -r basic_rag_requirements.txt (line 39)) (3.1.5)\n",
      "Requirement already satisfied: jiter==0.8.2 in c:\\users\\amaan\\desktop\\rag chatbot\\basic_rag_venv\\lib\\site-packages (from -r basic_rag_requirements.txt (line 40)) (0.8.2)\n",
      "Requirement already satisfied: joblib==1.4.2 in c:\\users\\amaan\\desktop\\rag chatbot\\basic_rag_venv\\lib\\site-packages (from -r basic_rag_requirements.txt (line 41)) (1.4.2)\n",
      "Requirement already satisfied: jupyter_client==8.6.3 in c:\\users\\amaan\\desktop\\rag chatbot\\basic_rag_venv\\lib\\site-packages (from -r basic_rag_requirements.txt (line 42)) (8.6.3)\n",
      "Requirement already satisfied: jupyter_core==5.7.2 in c:\\users\\amaan\\desktop\\rag chatbot\\basic_rag_venv\\lib\\site-packages (from -r basic_rag_requirements.txt (line 43)) (5.7.2)\n",
      "Requirement already satisfied: langcodes==3.5.0 in c:\\users\\amaan\\desktop\\rag chatbot\\basic_rag_venv\\lib\\site-packages (from -r basic_rag_requirements.txt (line 44)) (3.5.0)\n",
      "Requirement already satisfied: language_data==1.3.0 in c:\\users\\amaan\\desktop\\rag chatbot\\basic_rag_venv\\lib\\site-packages (from -r basic_rag_requirements.txt (line 45)) (1.3.0)\n",
      "Requirement already satisfied: llama-index==0.9.40 in c:\\users\\amaan\\desktop\\rag chatbot\\basic_rag_venv\\lib\\site-packages (from -r basic_rag_requirements.txt (line 46)) (0.9.40)\n",
      "Requirement already satisfied: marisa-trie==1.2.1 in c:\\users\\amaan\\desktop\\rag chatbot\\basic_rag_venv\\lib\\site-packages (from -r basic_rag_requirements.txt (line 47)) (1.2.1)\n",
      "Requirement already satisfied: markdown-it-py==3.0.0 in c:\\users\\amaan\\desktop\\rag chatbot\\basic_rag_venv\\lib\\site-packages (from -r basic_rag_requirements.txt (line 48)) (3.0.0)\n",
      "Requirement already satisfied: MarkupSafe==3.0.2 in c:\\users\\amaan\\desktop\\rag chatbot\\basic_rag_venv\\lib\\site-packages (from -r basic_rag_requirements.txt (line 49)) (3.0.2)\n",
      "Requirement already satisfied: marshmallow==3.26.1 in c:\\users\\amaan\\desktop\\rag chatbot\\basic_rag_venv\\lib\\site-packages (from -r basic_rag_requirements.txt (line 50)) (3.26.1)\n",
      "Requirement already satisfied: matplotlib-inline==0.1.7 in c:\\users\\amaan\\desktop\\rag chatbot\\basic_rag_venv\\lib\\site-packages (from -r basic_rag_requirements.txt (line 51)) (0.1.7)\n",
      "Requirement already satisfied: mdurl==0.1.2 in c:\\users\\amaan\\desktop\\rag chatbot\\basic_rag_venv\\lib\\site-packages (from -r basic_rag_requirements.txt (line 52)) (0.1.2)\n",
      "Requirement already satisfied: mpmath==1.3.0 in c:\\users\\amaan\\desktop\\rag chatbot\\basic_rag_venv\\lib\\site-packages (from -r basic_rag_requirements.txt (line 53)) (1.3.0)\n",
      "Requirement already satisfied: multidict==6.1.0 in c:\\users\\amaan\\desktop\\rag chatbot\\basic_rag_venv\\lib\\site-packages (from -r basic_rag_requirements.txt (line 54)) (6.1.0)\n",
      "Requirement already satisfied: murmurhash==1.0.12 in c:\\users\\amaan\\desktop\\rag chatbot\\basic_rag_venv\\lib\\site-packages (from -r basic_rag_requirements.txt (line 55)) (1.0.12)\n",
      "Requirement already satisfied: mypy-extensions==1.0.0 in c:\\users\\amaan\\desktop\\rag chatbot\\basic_rag_venv\\lib\\site-packages (from -r basic_rag_requirements.txt (line 56)) (1.0.0)\n",
      "Requirement already satisfied: nest-asyncio==1.6.0 in c:\\users\\amaan\\desktop\\rag chatbot\\basic_rag_venv\\lib\\site-packages (from -r basic_rag_requirements.txt (line 57)) (1.6.0)\n",
      "Requirement already satisfied: networkx==3.4.2 in c:\\users\\amaan\\desktop\\rag chatbot\\basic_rag_venv\\lib\\site-packages (from -r basic_rag_requirements.txt (line 58)) (3.4.2)\n",
      "Requirement already satisfied: nltk==3.9.1 in c:\\users\\amaan\\desktop\\rag chatbot\\basic_rag_venv\\lib\\site-packages (from -r basic_rag_requirements.txt (line 59)) (3.9.1)\n",
      "Requirement already satisfied: numpy==2.2.3 in c:\\users\\amaan\\desktop\\rag chatbot\\basic_rag_venv\\lib\\site-packages (from -r basic_rag_requirements.txt (line 60)) (2.2.3)\n",
      "Requirement already satisfied: openai==1.65.2 in c:\\users\\amaan\\desktop\\rag chatbot\\basic_rag_venv\\lib\\site-packages (from -r basic_rag_requirements.txt (line 61)) (1.65.2)\n",
      "Requirement already satisfied: packaging==24.2 in c:\\users\\amaan\\desktop\\rag chatbot\\basic_rag_venv\\lib\\site-packages (from -r basic_rag_requirements.txt (line 62)) (24.2)\n",
      "Requirement already satisfied: pandas==2.2.3 in c:\\users\\amaan\\desktop\\rag chatbot\\basic_rag_venv\\lib\\site-packages (from -r basic_rag_requirements.txt (line 63)) (2.2.3)\n",
      "Requirement already satisfied: parso==0.8.4 in c:\\users\\amaan\\desktop\\rag chatbot\\basic_rag_venv\\lib\\site-packages (from -r basic_rag_requirements.txt (line 64)) (0.8.4)\n",
      "Requirement already satisfied: pillow==11.1.0 in c:\\users\\amaan\\desktop\\rag chatbot\\basic_rag_venv\\lib\\site-packages (from -r basic_rag_requirements.txt (line 65)) (11.1.0)\n",
      "Requirement already satisfied: platformdirs==4.3.6 in c:\\users\\amaan\\desktop\\rag chatbot\\basic_rag_venv\\lib\\site-packages (from -r basic_rag_requirements.txt (line 66)) (4.3.6)\n",
      "Requirement already satisfied: preshed==3.0.9 in c:\\users\\amaan\\desktop\\rag chatbot\\basic_rag_venv\\lib\\site-packages (from -r basic_rag_requirements.txt (line 67)) (3.0.9)\n",
      "Requirement already satisfied: prompt_toolkit==3.0.50 in c:\\users\\amaan\\desktop\\rag chatbot\\basic_rag_venv\\lib\\site-packages (from -r basic_rag_requirements.txt (line 68)) (3.0.50)\n",
      "Requirement already satisfied: propcache==0.3.0 in c:\\users\\amaan\\desktop\\rag chatbot\\basic_rag_venv\\lib\\site-packages (from -r basic_rag_requirements.txt (line 69)) (0.3.0)\n",
      "Requirement already satisfied: psutil==7.0.0 in c:\\users\\amaan\\desktop\\rag chatbot\\basic_rag_venv\\lib\\site-packages (from -r basic_rag_requirements.txt (line 70)) (7.0.0)\n",
      "Requirement already satisfied: pure_eval==0.2.3 in c:\\users\\amaan\\desktop\\rag chatbot\\basic_rag_venv\\lib\\site-packages (from -r basic_rag_requirements.txt (line 71)) (0.2.3)\n",
      "Requirement already satisfied: pydantic==2.10.6 in c:\\users\\amaan\\desktop\\rag chatbot\\basic_rag_venv\\lib\\site-packages (from -r basic_rag_requirements.txt (line 72)) (2.10.6)\n",
      "Requirement already satisfied: pydantic_core==2.27.2 in c:\\users\\amaan\\desktop\\rag chatbot\\basic_rag_venv\\lib\\site-packages (from -r basic_rag_requirements.txt (line 73)) (2.27.2)\n",
      "Requirement already satisfied: Pygments==2.19.1 in c:\\users\\amaan\\desktop\\rag chatbot\\basic_rag_venv\\lib\\site-packages (from -r basic_rag_requirements.txt (line 74)) (2.19.1)\n",
      "Requirement already satisfied: PyMuPDF==1.25.3 in c:\\users\\amaan\\desktop\\rag chatbot\\basic_rag_venv\\lib\\site-packages (from -r basic_rag_requirements.txt (line 75)) (1.25.3)\n",
      "Requirement already satisfied: pypdf==5.3.1 in c:\\users\\amaan\\desktop\\rag chatbot\\basic_rag_venv\\lib\\site-packages (from -r basic_rag_requirements.txt (line 76)) (5.3.1)\n",
      "Requirement already satisfied: python-dateutil==2.9.0.post0 in c:\\users\\amaan\\desktop\\rag chatbot\\basic_rag_venv\\lib\\site-packages (from -r basic_rag_requirements.txt (line 77)) (2.9.0.post0)\n",
      "Requirement already satisfied: python-dotenv==1.0.1 in c:\\users\\amaan\\desktop\\rag chatbot\\basic_rag_venv\\lib\\site-packages (from -r basic_rag_requirements.txt (line 78)) (1.0.1)\n",
      "Requirement already satisfied: pytz==2025.1 in c:\\users\\amaan\\desktop\\rag chatbot\\basic_rag_venv\\lib\\site-packages (from -r basic_rag_requirements.txt (line 79)) (2025.1)\n",
      "Requirement already satisfied: pywin32==308 in c:\\users\\amaan\\desktop\\rag chatbot\\basic_rag_venv\\lib\\site-packages (from -r basic_rag_requirements.txt (line 80)) (308)\n",
      "Requirement already satisfied: PyYAML==6.0.2 in c:\\users\\amaan\\desktop\\rag chatbot\\basic_rag_venv\\lib\\site-packages (from -r basic_rag_requirements.txt (line 81)) (6.0.2)\n",
      "Requirement already satisfied: pyzmq==26.2.1 in c:\\users\\amaan\\desktop\\rag chatbot\\basic_rag_venv\\lib\\site-packages (from -r basic_rag_requirements.txt (line 82)) (26.2.1)\n",
      "Requirement already satisfied: rank-bm25==0.2.2 in c:\\users\\amaan\\desktop\\rag chatbot\\basic_rag_venv\\lib\\site-packages (from -r basic_rag_requirements.txt (line 83)) (0.2.2)\n",
      "Requirement already satisfied: regex==2024.11.6 in c:\\users\\amaan\\desktop\\rag chatbot\\basic_rag_venv\\lib\\site-packages (from -r basic_rag_requirements.txt (line 84)) (2024.11.6)\n",
      "Requirement already satisfied: requests==2.32.3 in c:\\users\\amaan\\desktop\\rag chatbot\\basic_rag_venv\\lib\\site-packages (from -r basic_rag_requirements.txt (line 85)) (2.32.3)\n",
      "Requirement already satisfied: rich==13.9.4 in c:\\users\\amaan\\desktop\\rag chatbot\\basic_rag_venv\\lib\\site-packages (from -r basic_rag_requirements.txt (line 86)) (13.9.4)\n",
      "Requirement already satisfied: safetensors==0.5.3 in c:\\users\\amaan\\desktop\\rag chatbot\\basic_rag_venv\\lib\\site-packages (from -r basic_rag_requirements.txt (line 87)) (0.5.3)\n",
      "Requirement already satisfied: scikit-learn==1.6.1 in c:\\users\\amaan\\desktop\\rag chatbot\\basic_rag_venv\\lib\\site-packages (from -r basic_rag_requirements.txt (line 88)) (1.6.1)\n",
      "Requirement already satisfied: scipy==1.15.2 in c:\\users\\amaan\\desktop\\rag chatbot\\basic_rag_venv\\lib\\site-packages (from -r basic_rag_requirements.txt (line 89)) (1.15.2)\n",
      "Requirement already satisfied: sentence-transformers==3.4.1 in c:\\users\\amaan\\desktop\\rag chatbot\\basic_rag_venv\\lib\\site-packages (from -r basic_rag_requirements.txt (line 90)) (3.4.1)\n",
      "Requirement already satisfied: shellingham==1.5.4 in c:\\users\\amaan\\desktop\\rag chatbot\\basic_rag_venv\\lib\\site-packages (from -r basic_rag_requirements.txt (line 91)) (1.5.4)\n",
      "Requirement already satisfied: six==1.17.0 in c:\\users\\amaan\\desktop\\rag chatbot\\basic_rag_venv\\lib\\site-packages (from -r basic_rag_requirements.txt (line 92)) (1.17.0)\n",
      "Requirement already satisfied: smart-open==7.1.0 in c:\\users\\amaan\\desktop\\rag chatbot\\basic_rag_venv\\lib\\site-packages (from -r basic_rag_requirements.txt (line 93)) (7.1.0)\n",
      "Requirement already satisfied: sniffio==1.3.1 in c:\\users\\amaan\\desktop\\rag chatbot\\basic_rag_venv\\lib\\site-packages (from -r basic_rag_requirements.txt (line 94)) (1.3.1)\n",
      "Requirement already satisfied: spacy==3.8.4 in c:\\users\\amaan\\desktop\\rag chatbot\\basic_rag_venv\\lib\\site-packages (from -r basic_rag_requirements.txt (line 95)) (3.8.4)\n",
      "Requirement already satisfied: spacy-legacy==3.0.12 in c:\\users\\amaan\\desktop\\rag chatbot\\basic_rag_venv\\lib\\site-packages (from -r basic_rag_requirements.txt (line 96)) (3.0.12)\n",
      "Requirement already satisfied: spacy-loggers==1.0.5 in c:\\users\\amaan\\desktop\\rag chatbot\\basic_rag_venv\\lib\\site-packages (from -r basic_rag_requirements.txt (line 97)) (1.0.5)\n",
      "Requirement already satisfied: SQLAlchemy==2.0.38 in c:\\users\\amaan\\desktop\\rag chatbot\\basic_rag_venv\\lib\\site-packages (from -r basic_rag_requirements.txt (line 98)) (2.0.38)\n",
      "Requirement already satisfied: srsly==2.5.1 in c:\\users\\amaan\\desktop\\rag chatbot\\basic_rag_venv\\lib\\site-packages (from -r basic_rag_requirements.txt (line 99)) (2.5.1)\n",
      "Requirement already satisfied: stack-data==0.6.3 in c:\\users\\amaan\\desktop\\rag chatbot\\basic_rag_venv\\lib\\site-packages (from -r basic_rag_requirements.txt (line 100)) (0.6.3)\n",
      "Requirement already satisfied: sympy==1.13.1 in c:\\users\\amaan\\desktop\\rag chatbot\\basic_rag_venv\\lib\\site-packages (from -r basic_rag_requirements.txt (line 101)) (1.13.1)\n",
      "Requirement already satisfied: tenacity==8.5.0 in c:\\users\\amaan\\desktop\\rag chatbot\\basic_rag_venv\\lib\\site-packages (from -r basic_rag_requirements.txt (line 102)) (8.5.0)\n",
      "Requirement already satisfied: thinc==8.3.4 in c:\\users\\amaan\\desktop\\rag chatbot\\basic_rag_venv\\lib\\site-packages (from -r basic_rag_requirements.txt (line 103)) (8.3.4)\n",
      "Requirement already satisfied: threadpoolctl==3.5.0 in c:\\users\\amaan\\desktop\\rag chatbot\\basic_rag_venv\\lib\\site-packages (from -r basic_rag_requirements.txt (line 104)) (3.5.0)\n",
      "Requirement already satisfied: tiktoken==0.9.0 in c:\\users\\amaan\\desktop\\rag chatbot\\basic_rag_venv\\lib\\site-packages (from -r basic_rag_requirements.txt (line 105)) (0.9.0)\n",
      "Requirement already satisfied: tokenizers==0.21.0 in c:\\users\\amaan\\desktop\\rag chatbot\\basic_rag_venv\\lib\\site-packages (from -r basic_rag_requirements.txt (line 106)) (0.21.0)\n",
      "Requirement already satisfied: torch==2.6.0 in c:\\users\\amaan\\desktop\\rag chatbot\\basic_rag_venv\\lib\\site-packages (from -r basic_rag_requirements.txt (line 107)) (2.6.0)\n",
      "Requirement already satisfied: tornado==6.4.2 in c:\\users\\amaan\\desktop\\rag chatbot\\basic_rag_venv\\lib\\site-packages (from -r basic_rag_requirements.txt (line 108)) (6.4.2)\n",
      "Requirement already satisfied: tqdm==4.67.1 in c:\\users\\amaan\\desktop\\rag chatbot\\basic_rag_venv\\lib\\site-packages (from -r basic_rag_requirements.txt (line 109)) (4.67.1)\n",
      "Requirement already satisfied: traitlets==5.14.3 in c:\\users\\amaan\\desktop\\rag chatbot\\basic_rag_venv\\lib\\site-packages (from -r basic_rag_requirements.txt (line 110)) (5.14.3)\n",
      "Requirement already satisfied: transformers==4.49.0 in c:\\users\\amaan\\desktop\\rag chatbot\\basic_rag_venv\\lib\\site-packages (from -r basic_rag_requirements.txt (line 111)) (4.49.0)\n",
      "Requirement already satisfied: typer==0.15.2 in c:\\users\\amaan\\desktop\\rag chatbot\\basic_rag_venv\\lib\\site-packages (from -r basic_rag_requirements.txt (line 112)) (0.15.2)\n",
      "Requirement already satisfied: typing-inspect==0.9.0 in c:\\users\\amaan\\desktop\\rag chatbot\\basic_rag_venv\\lib\\site-packages (from -r basic_rag_requirements.txt (line 113)) (0.9.0)\n",
      "Requirement already satisfied: typing_extensions==4.12.2 in c:\\users\\amaan\\desktop\\rag chatbot\\basic_rag_venv\\lib\\site-packages (from -r basic_rag_requirements.txt (line 114)) (4.12.2)\n",
      "Requirement already satisfied: tzdata==2025.1 in c:\\users\\amaan\\desktop\\rag chatbot\\basic_rag_venv\\lib\\site-packages (from -r basic_rag_requirements.txt (line 115)) (2025.1)\n",
      "Requirement already satisfied: urllib3==2.3.0 in c:\\users\\amaan\\desktop\\rag chatbot\\basic_rag_venv\\lib\\site-packages (from -r basic_rag_requirements.txt (line 116)) (2.3.0)\n",
      "Requirement already satisfied: wasabi==1.1.3 in c:\\users\\amaan\\desktop\\rag chatbot\\basic_rag_venv\\lib\\site-packages (from -r basic_rag_requirements.txt (line 117)) (1.1.3)\n",
      "Requirement already satisfied: wcwidth==0.2.13 in c:\\users\\amaan\\desktop\\rag chatbot\\basic_rag_venv\\lib\\site-packages (from -r basic_rag_requirements.txt (line 118)) (0.2.13)\n",
      "Requirement already satisfied: weasel==0.4.1 in c:\\users\\amaan\\desktop\\rag chatbot\\basic_rag_venv\\lib\\site-packages (from -r basic_rag_requirements.txt (line 119)) (0.4.1)\n",
      "Requirement already satisfied: wrapt==1.17.2 in c:\\users\\amaan\\desktop\\rag chatbot\\basic_rag_venv\\lib\\site-packages (from -r basic_rag_requirements.txt (line 120)) (1.17.2)\n",
      "Requirement already satisfied: yarl==1.18.3 in c:\\users\\amaan\\desktop\\rag chatbot\\basic_rag_venv\\lib\\site-packages (from -r basic_rag_requirements.txt (line 121)) (1.18.3)\n",
      "Requirement already satisfied: setuptools in c:\\users\\amaan\\desktop\\rag chatbot\\basic_rag_venv\\lib\\site-packages (from marisa-trie==1.2.1->-r basic_rag_requirements.txt (line 47)) (65.5.0)\n"
     ]
    },
    {
     "name": "stderr",
     "output_type": "stream",
     "text": [
      "\n",
      "[notice] A new release of pip is available: 24.0 -> 25.0.1\n",
      "[notice] To update, run: python.exe -m pip install --upgrade pip\n"
     ]
    }
   ],
   "source": [
    "!pip install -r basic_rag_requirements.txt\n"
   ]
  },
  {
   "cell_type": "code",
   "execution_count": 1,
   "metadata": {},
   "outputs": [
    {
     "data": {
      "text/plain": [
       "True"
      ]
     },
     "execution_count": 1,
     "metadata": {},
     "output_type": "execute_result"
    }
   ],
   "source": [
    "## Retrieval augmented generation\n",
    "\n",
    "import os\n",
    "from dotenv import load_dotenv\n",
    "load_dotenv()\n"
   ]
  },
  {
   "cell_type": "code",
   "execution_count": 2,
   "metadata": {},
   "outputs": [],
   "source": [
    "os.environ['OPENAI_API_KEY']=os.getenv(\"OPENAI_API_KEY\")"
   ]
  },
  {
   "cell_type": "code",
   "execution_count": 3,
   "metadata": {},
   "outputs": [],
   "source": [
    "from llama_index import VectorStoreIndex,SimpleDirectoryReader\n",
    "documents=SimpleDirectoryReader(\"data\").load_data()"
   ]
  },
  {
   "cell_type": "code",
   "execution_count": 4,
   "metadata": {},
   "outputs": [
    {
     "data": {
      "text/plain": [
       "[Document(id_='37d2a352-1407-4885-8e15-8325be052814', embedding=None, metadata={'page_label': '1', 'file_name': 'standard-residential-lease-agreement-template.pdf', 'file_path': 'data\\\\standard-residential-lease-agreement-template.pdf', 'file_type': 'application/pdf', 'file_size': 144887, 'creation_date': '2025-03-03', 'last_modified_date': '2025-03-02', 'last_accessed_date': '2025-03-03'}, excluded_embed_metadata_keys=['file_name', 'file_type', 'file_size', 'creation_date', 'last_modified_date', 'last_accessed_date'], excluded_llm_metadata_keys=['file_name', 'file_type', 'file_size', 'creation_date', 'last_modified_date', 'last_accessed_date'], relationships={}, text='STANDARD LEASE AGREEMENT\\n\\xa0\\n\\xa0\\nTHIS LEASE AGREEMENT hereinafter known as the \"Lease\" is made and entered into\\n\\xa0\\nthis ____ day of _______________________,  20____, by and between the Landlord known\\n\\xa0\\nas _______________________ with a mailing address _______________________, in the City\\n\\xa0\\nof _______________________, State of _______________________ hereinafter known as the\\n\\xa0\\n\"Landlord\" and the Tenant(s) known as  _______________________,\\n\\xa0\\n_______________________, _______________________, _______________________, hereinafter\\n\\xa0\\nknown as the \"Tenant(s)\" for and in consideration of the covenants and obligations\\n\\xa0\\ncontained herein and other good and valuable consideration, the receipt and\\n\\xa0\\nsufficiency of which is hereby acknowledged, the parties hereby agree as follows:\\n\\xa0\\n\\xa0\\n\\xa0\\nPROPERTY.\\u200b\\n Landlord owns property and improvements located at\\n\\xa0\\n_______________________, City of _______________________, State of\\n\\xa0\\n_______________________ (hereinafter referred to as the \"Property\"). Landlord desires to\\n\\xa0\\nlease the Property to Tenant upon the terms and conditions contained herein.\\n\\xa0\\nTenant desires to lease the Property from Landlord upon the terms and conditions\\n\\xa0\\ncontained herein.\\n\\xa0\\n\\xa0\\nLEASE TERM.\\u200b\\n This Lease shall commence on ____ day of _______________________,\\n\\xa0\\n20____, and end on ____ day of _______________________,  20____, at 11:59 PM local time\\n\\xa0\\n(hereinafter referred to as the “Term”). Upon the end of the Term, Tenant shall be\\n\\xa0\\nrequired to vacate the Property unless one of the following circumstances occur:\\n\\xa0\\nA.\\nLandlord and Tenant formally extend this Lease in writing or create and\\n\\xa0\\nexecute a new, written and signed Lease; Or\\n\\xa0\\nB.\\nLandlord willingly accepts new Rent from Tenant, which does not constitute\\n\\xa0\\npast due Rent. In the event that Landlord accepts new rent from Tenant after\\n\\xa0\\nthe termination date, a month-to-month tenancy shall be created. If at any\\n\\xa0\\ntime either party desires to terminate the month-to-month tenancy, such\\n\\xa0\\nparty may do so by providing to the other party written notice of intention to\\n\\xa0\\nterminate at least ____ days prior to the desired date or the minimum time\\n\\xa0\\nperiod required by the State, whichever is less. Notices to terminate may be\\n\\xa0\\ngiven on any calendar day, irrespective of the commencement date. Rent\\n\\xa0\\nshall continue at the rate specified in this Lease, or as allowed by law. All other\\n\\xa0\\nterms and conditions as outlined in this Lease shall remain in full force and\\n\\xa0\\neffect.\\n\\xa0\\n\\xa0\\n\\xa0\\nRENT.\\u200b\\n Tenant shall pay to Landlord the sum of $____________ per month (hereinafter\\n\\xa0\\nreferred to as “Rent”) for the Term of the Lease. The due date for Rent payment shall\\n\\xa0\\nbe the ____ day of each calendar month and shall be considered an advance\\n\\xa0', start_char_idx=None, end_char_idx=None, text_template='{metadata_str}\\n\\n{content}', metadata_template='{key}: {value}', metadata_seperator='\\n'),\n",
       " Document(id_='675e1a85-2af7-4d6d-a0b0-f3882ca0a598', embedding=None, metadata={'page_label': '2', 'file_name': 'standard-residential-lease-agreement-template.pdf', 'file_path': 'data\\\\standard-residential-lease-agreement-template.pdf', 'file_type': 'application/pdf', 'file_size': 144887, 'creation_date': '2025-03-03', 'last_modified_date': '2025-03-02', 'last_accessed_date': '2025-03-03'}, excluded_embed_metadata_keys=['file_name', 'file_type', 'file_size', 'creation_date', 'last_modified_date', 'last_accessed_date'], excluded_llm_metadata_keys=['file_name', 'file_type', 'file_size', 'creation_date', 'last_modified_date', 'last_accessed_date'], relationships={}, text='payment for that month (hereinafter referred to as the “Due Date”). Weekends and\\n\\xa0\\nholidays do not delay or excuse Tenant’s obligation to pay Rent on time.\\n\\xa0\\nA.\\nLate Rent.\\u200b\\n If Rent is not paid within ____ days of the Due Date, the Rent shall\\n\\xa0\\nbe considered past due and a late fee of \\n☐\\n $____________ or \\n☐\\n ____ % of the\\n\\xa0\\nRent past due shall be applied for every \\n☐\\n day Rent is late \\n☐\\n occurrence Rent\\n\\xa0\\nis late.\\n\\xa0\\nB.\\nReturned Checks.\\u200b\\n In the event that any payment by Tenant is returned for\\n\\xa0\\ninsufficient funds (\"NSF\") or if Tenant stops payment, Tenant will pay\\n\\xa0\\n$____________ to Landlord for each such check, plus late Rent penalties, as\\n\\xa0\\ndescribed above, until Landlord has received payment.\\n\\xa0\\n\\xa0\\nC.\\nOrder in which Funds are Applied.\\u200b\\n The landlord will apply all funds received\\n\\xa0\\nfrom Tenant first to any non-rent obligations of Tenant, including late charges,\\n\\xa0\\nreturned check charges, charge-backs for repairs, brokerage fees, and\\n\\xa0\\nperiodic utilities, then to Rent, regardless of any notations on a check.\\n\\xa0\\nD.\\nRent Increases.\\u200b\\n There will be no rent increases through the Term of the Lease.\\n\\xa0\\nIf this Lease is renewed automatically on a month-to-month basis, Landlord\\n\\xa0\\nmay increase the rent during the renewal period by providing written notice\\n\\xa0\\nto Tenant that becomes effective the month following the ____ day after the\\n\\xa0\\nnotice is provided.\\n\\xa0\\n\\xa0\\nSECURITY DEPOSIT.\\u200b\\n Upon execution of this Lease, Tenant shall deposit with\\n\\xa0\\nLandlord the sum of $____________ (hereinafter referred to as the “Security Deposit”)\\n\\xa0\\nreceipt of which is hereby acknowledged by Landlord, as security for any damage\\n\\xa0\\ncaused to the Property during the term hereof. The landlord may place the Security\\n\\xa0\\nDeposit in an interest-bearing account and any interest earned will be paid to\\n\\xa0\\nLandlord.\\n\\xa0\\nA.\\nRefunds.\\u200b\\n Upon termination of the tenancy, all funds held by the landlord as a\\n\\xa0\\nSecurity Deposit may be applied to the payment of accrued rent and the\\n\\xa0\\nnumber of damages that the landlord has suffered by reason of the tenant\\'s\\n\\xa0\\nnoncompliance with the terms of this Lease or with any and all laws,\\n\\xa0\\nordinances, rules, and orders of any and all governmental authorities affecting\\n\\xa0\\nthe cleanliness, use, occupancy, and preservation of the Property.\\n\\xa0\\nB.\\nDeductions.\\u200b\\n The landlord may deduct reasonable charges from the Security\\n\\xa0\\nDeposit for unpaid rent; late charges; costs of reletting, if Tenant is in default;\\n\\xa0\\nunpaid utilities; replacing unreturned keys, garage door openers, or other\\n\\xa0\\ndevices; costs of cleaning and repairing the Property and its contents for\\n\\xa0\\nwhich tenant is responsible; pet violations; removal of unauthorized locks or\\n\\xa0\\nfixtures; removing abandoned or illegally parked vehicles; attorney fees and\\n\\xa0\\ncosts of court incurred in any proceeding against Tenant. If deductions exceed\\n\\xa0\\nthe Security Deposit, Tenant will pay Landlord the excess amount within ten\\n\\xa0\\n(10) days after Landlord makes written demand. The Security Deposit will be\\n\\xa0\\napplied first to any non-rent items, including late charges, returned check\\n\\xa0\\ncharges, repairs, brokerage fees, and periodic utilities, then to any unpaid rent.\\n\\xa0', start_char_idx=None, end_char_idx=None, text_template='{metadata_str}\\n\\n{content}', metadata_template='{key}: {value}', metadata_seperator='\\n'),\n",
       " Document(id_='4abedf01-64ef-4d49-b761-ef47580a80ab', embedding=None, metadata={'page_label': '3', 'file_name': 'standard-residential-lease-agreement-template.pdf', 'file_path': 'data\\\\standard-residential-lease-agreement-template.pdf', 'file_type': 'application/pdf', 'file_size': 144887, 'creation_date': '2025-03-03', 'last_modified_date': '2025-03-02', 'last_accessed_date': '2025-03-03'}, excluded_embed_metadata_keys=['file_name', 'file_type', 'file_size', 'creation_date', 'last_modified_date', 'last_accessed_date'], excluded_llm_metadata_keys=['file_name', 'file_type', 'file_size', 'creation_date', 'last_modified_date', 'last_accessed_date'], relationships={}, text=\"C.\\nReturn.\\u200b\\n The Landlord shall return the Security Deposit to the Tenant within\\n\\xa0\\nthe requirements within the State or sixty (60) days from the end of the Term,\\n\\xa0\\nwhichever is less.\\n\\xa0\\n\\xa0\\nUSE OF PROPERTY.\\u200b\\n The Property shall be used and occupied solely by Tenant and\\n\\xa0\\nTenant's immediate family, consisting of only the following named person(s):\\n\\xa0\\n_____________________________________________________________________________________\\n_____________________________________________________________________________________\\n_____________________________________________________________________________________\\n_____________________________________________________________________________________\\n\\xa0\\nand to be used exclusively as a private single-family dwelling, and no part of the\\n\\xa0\\nProperty shall be used at any time during the term of this Lease by Tenant for the\\n\\xa0\\npurpose of carrying on any business, profession, or trade of any kind, or for any\\n\\xa0\\npurpose other than as a private single-family dwelling. Tenant shall not allow any\\n\\xa0\\nother person, other than Tenant's immediate family or transient relatives and friends\\n\\xa0\\nwho are guests of Tenant, to use or occupy the Property without first obtaining\\n\\xa0\\nLandlord's written consent to such use. Tenant shall comply with any and all laws,\\n\\xa0\\nordinances, rules, and orders of any and all governmental authorities affecting the\\n\\xa0\\ncleanliness, use, occupancy, and preservation of the Property.\\n\\xa0\\n\\xa0\\nCONDITION.\\u200b\\n Tenant stipulates, represents, and warrants that Tenant has examined\\n\\xa0\\nthe Property and that they are at the time of this Lease in good order, repair, and in a\\n\\xa0\\nsafe, clean, and tenantable condition.\\n\\xa0\\n\\xa0\\nASSIGNMENT.\\u200b\\n Under this Lease:\\n\\xa0\\n\\xa0\\n☐\\n \\u200b\\nSubletting Not Allowed.\\u200b\\n Tenant shall not assign this Lease or sublet or grant any\\n\\xa0\\nlicense to use the Property or any part thereof without the prior written consent of\\n\\xa0\\nthe Landlord. A consent by Landlord to one such assignment, sub-letting, or license\\n\\xa0\\nshall not be deemed to be a consent to any subsequent assignment, sub-letting, or\\n\\xa0\\nlicense. An assignment, sub-letting, or license without the prior written consent of\\n\\xa0\\nLandlord or an assignment or subletting by operation of law shall be absolutely null\\n\\xa0\\nand void and shall, at Landlord's option, terminate this Lease.\\n\\xa0\\n☐\\n \\u200b\\nSubletting Allowed.\\u200b\\n Tenant shall have the right to sublet and grant a license to\\n\\xa0\\nother individuals to use the Property or any part thereof without the prior written\\n\\xa0\\nconsent of the Landlord. In the event the Tenant shall sublet the Property, notice\\n\\xa0\\nshall be given to the Landlord within ____ days of the SubTenant(s) name and\\n\\xa0\\naddress. In the event the SubTenant(s) violates any portion of this Lease, all liability\\n\\xa0\\nshall be held against the Tenant.\\n\\xa0\\n\\xa0\\nRIGHT OF ENTRY.\\u200b\\n The Landlord shall have the right to enter the Property during\\n\\xa0\\nnormal working hours by providing at least ____ hours notice in order for inspection,\\n\\xa0\\nmake necessary repairs, alterations or improvements, to supply services as agreed or\\n\\xa0\", start_char_idx=None, end_char_idx=None, text_template='{metadata_str}\\n\\n{content}', metadata_template='{key}: {value}', metadata_seperator='\\n'),\n",
       " Document(id_='b9bf2502-9d47-4b20-a6dd-f379e208a64f', embedding=None, metadata={'page_label': '4', 'file_name': 'standard-residential-lease-agreement-template.pdf', 'file_path': 'data\\\\standard-residential-lease-agreement-template.pdf', 'file_type': 'application/pdf', 'file_size': 144887, 'creation_date': '2025-03-03', 'last_modified_date': '2025-03-02', 'last_accessed_date': '2025-03-03'}, excluded_embed_metadata_keys=['file_name', 'file_type', 'file_size', 'creation_date', 'last_modified_date', 'last_accessed_date'], excluded_llm_metadata_keys=['file_name', 'file_type', 'file_size', 'creation_date', 'last_modified_date', 'last_accessed_date'], relationships={}, text='for any reasonable purpose. The Landlord may exhibit the Property to prospective\\n\\xa0\\npurchasers, mortgagees, or lessees upon reasonable notice.\\n\\xa0\\n\\xa0\\nALTERATIONS AND IMPROVEMENTS.\\u200b\\n Tenant shall make no alterations to the\\n\\xa0\\nbuilding or improvements on the Property or construct any building or make any\\n\\xa0\\nother improvements on the Property without the prior written consent of Landlord.\\n\\xa0\\nAny and all alterations, changes, and/or improvements built, constructed, or placed\\n\\xa0\\non the Property by Tenant shall, unless otherwise provided by written agreement\\n\\xa0\\nbetween Landlord and Tenant, be and become the property of Landlord and remain\\n\\xa0\\non the property at the expiration or earlier termination of this Lease.\\n\\xa0\\n\\xa0\\nNON-DELIVERY OF POSSESSION. \\u200b\\nIn the event, the Landlord cannot deliver\\n\\xa0\\npossession of the Property to Tenant upon the commencement of the Lease term,\\n\\xa0\\nthrough no fault of Landlord, then Landlord shall have no liability, but the rental\\n\\xa0\\nherein provided shall abate until possession is given. Landlord shall have ____ days in\\n\\xa0\\nwhich to give possession and, if possession is tendered within such time, Tenant\\n\\xa0\\nagrees to accept the demised Property and pay the rental herein provided from that\\n\\xa0\\ndate. In the event, possession cannot be delivered within such time, through no fault\\n\\xa0\\nof Landlord, then this Lease and all rights hereunder shall terminate.\\n\\xa0\\n\\xa0\\nHAZARDOUS MATERIALS.\\u200b\\n Tenant shall not keep on the Property any item of a\\n\\xa0\\ndangerous, flammable or explosive nature that might unreasonably increase the\\n\\xa0\\ndanger of fire or explosion on the Property or that might be considered hazardous or\\n\\xa0\\nextra hazardous by any responsible insurance company.\\n\\xa0\\n\\xa0\\nUTILITIES.\\u200b\\n The Landlord shall provide the following utilities and services to the\\n\\xa0\\nTenant(s): _____________________________________________________________________. Any\\n\\xa0\\nother utilities or services not mentioned will be the responsibility of the Tenant(s).\\n\\xa0\\n\\xa0\\nMAINTENANCE, REPAIR, AND RULES.\\u200b\\n The tenant will, at its sole expense, keep and\\n\\xa0\\nmaintain the Property and appurtenances in a good and sanitary condition and\\n\\xa0\\nrepair during the term of this Lease and any renewal thereof. The Tenant shall:\\n\\xa0\\nA.\\nNot obstruct the driveways, sidewalks, entryways, stairs and/or halls, which\\n\\xa0\\nshall be used for the purposes of entering and exiting\\n\\xa0\\nB.\\nKeep all windows, glass, window coverings, doors, locks, and hardware in\\n\\xa0\\ngood, clean order and repair\\n\\xa0\\nC.\\nNot obstruct or cover the windows or doors\\n\\xa0\\nD.\\nNot hang any laundry, clothing, sheets, etc. from any window, rail, porch or\\n\\xa0\\nbalcony\\n\\xa0\\n\\xa0\\nE.\\nNot cause or permit any locks or hooks to be placed upon any door or window\\n\\xa0\\nwithout the prior written consent of Landlord\\n\\xa0\\nF.\\nKeep all air conditioning filters clean\\n\\xa0', start_char_idx=None, end_char_idx=None, text_template='{metadata_str}\\n\\n{content}', metadata_template='{key}: {value}', metadata_seperator='\\n'),\n",
       " Document(id_='060d6a0d-64e1-4b81-a288-abb9c3f1ba28', embedding=None, metadata={'page_label': '5', 'file_name': 'standard-residential-lease-agreement-template.pdf', 'file_path': 'data\\\\standard-residential-lease-agreement-template.pdf', 'file_type': 'application/pdf', 'file_size': 144887, 'creation_date': '2025-03-03', 'last_modified_date': '2025-03-02', 'last_accessed_date': '2025-03-03'}, excluded_embed_metadata_keys=['file_name', 'file_type', 'file_size', 'creation_date', 'last_modified_date', 'last_accessed_date'], excluded_llm_metadata_keys=['file_name', 'file_type', 'file_size', 'creation_date', 'last_modified_date', 'last_accessed_date'], relationships={}, text=\"G.\\nKeep all bathrooms, sinks, toilets, and all other water and plumbing apparatus\\n\\xa0\\nin good order and repair\\n\\xa0\\nH.\\nTenant's and guests shall at all times maintain order in the Property and at all\\n\\xa0\\nplaces on the Property, and shall not make or permit any loud or improper\\n\\xa0\\nnoises, or otherwise, disturb other residents\\n\\xa0\\nI.\\nDeposit all trash in the locations provided\\n\\xa0\\nJ.\\nAbide by and be bound by any and all rules and regulations affecting the\\n\\xa0\\nProperty or the common area by the Condominium or Homeowners'\\n\\xa0\\nAssociation having control over them\\n\\xa0\\n\\xa0\\nPETS.\\u200b\\n Under this Lease:\\n\\xa0\\n\\xa0\\n☐\\n \\u200b\\nPets Allowed.\\u200b\\n The Tenant shall be allowed to have ____ pet(s) on the Property\\n\\xa0\\nconsisting of \\n☐\\n Dogs \\n☐\\n Cats \\n☐\\n Fish \\n☐\\n Other _______________________ not weighing\\n\\xa0\\nmore than ____ \\n☐\\n pounds. The Landlord shall administer a fee of $____________ per\\n\\xa0\\npet on the Property. Landlord shall be held harmless in the event any of the Tenant’s\\n\\xa0\\npets cause harm, injury, death, or sickness to another individual or animal. Tenant is\\n\\xa0\\nresponsible and liable for any damage or required cleaning to the Property caused\\n\\xa0\\nby any authorized or unauthorized animal and for all costs Landlord may incur in\\n\\xa0\\nremoving or causing any animal to be removed.\\n\\xa0\\n☐\\n \\u200b\\nPets Not Allowed. \\u200b\\nThere shall be no animals permitted on the Property or in any\\n\\xa0\\ncommon areas UNLESS said pet is legally allowed under the law in regard to\\n\\xa0\\nassistance with a disability. Pets shall include, but not be limited to, any mammal,\\n\\xa0\\nreptile, bird, fish, rodents, or insects on the Property.\\n\\xa0\\n\\xa0\\n\\xa0\\nQUIET ENJOYMENT.\\u200b\\n Upon payment of all sums referred to herein as being payable\\n\\xa0\\nby Tenant and Tenant's performance of all Tenant's agreements contained herein\\n\\xa0\\nand Tenant's observance of all rules and regulations, Tenant shall and may peacefully\\n\\xa0\\nand quietly have, hold, and enjoy said Property for the term hereof.\\n\\xa0\\n\\xa0\\nINDEMNIFICATION.\\u200b\\n Landlord shall not be liable for any injury to the tenant, tenant’s\\n\\xa0\\nfamily, guests, or employees or to any person entering the Property and shall not be\\n\\xa0\\nliable for any damage to the building in which the Property is located or to goods or\\n\\xa0\\nequipment, or to the structure or equipment of the structure in which the Property\\n\\xa0\\nis located, and Tenant hereby agrees to indemnify, defend, and hold Landlord\\n\\xa0\\nharmless from any and all claims or assertions of every kind and nature.\\n\\xa0\\n\\xa0\\nDEFAULT.\\u200b\\n If Landlord breaches this Lease, Tenant may seek any relief provided by\\n\\xa0\\nlaw. If Tenant fails to comply with any of the material provisions of this Lease, other\\n\\xa0\\nthan the covenant to pay rent or of any present rules and regulations, or any that\\n\\xa0\\nmay be hereafter prescribed by Landlord, or materially fails to comply with any\\n\\xa0\\nduties imposed on Tenant by statute, Landlord may terminate this Lease ____ days\\n\\xa0\\nafter delivery of written notice by Landlord specifying the noncompliance and\\n\\xa0\\nindicating the intention of Landlord to terminate the Lease by reason thereof. If\\n\\xa0\", start_char_idx=None, end_char_idx=None, text_template='{metadata_str}\\n\\n{content}', metadata_template='{key}: {value}', metadata_seperator='\\n'),\n",
       " Document(id_='89d253e0-bc05-48d8-9bae-9dc2692cf177', embedding=None, metadata={'page_label': '6', 'file_name': 'standard-residential-lease-agreement-template.pdf', 'file_path': 'data\\\\standard-residential-lease-agreement-template.pdf', 'file_type': 'application/pdf', 'file_size': 144887, 'creation_date': '2025-03-03', 'last_modified_date': '2025-03-02', 'last_accessed_date': '2025-03-03'}, excluded_embed_metadata_keys=['file_name', 'file_type', 'file_size', 'creation_date', 'last_modified_date', 'last_accessed_date'], excluded_llm_metadata_keys=['file_name', 'file_type', 'file_size', 'creation_date', 'last_modified_date', 'last_accessed_date'], relationships={}, text=\"Tenant fails to pay rent when due and the default continues for ____ days thereafter,\\n\\xa0\\nLandlord may, at Landlord's option, declare the entire balance of rent payable\\n\\xa0\\nhereunder to be immediately due and payable and may exercise any and all rights\\n\\xa0\\nand remedies available to Landlord at law or in equity or may immediately terminate\\n\\xa0\\nthis Lease.\\n\\xa0\\n\\xa0\\nABANDONMENT.\\u200b\\n If at any time during the Term of this Lease Tenant abandons the\\n\\xa0\\nProperty or any part thereof, Landlord may, at Landlord's option, obtain possession of\\n\\xa0\\nthe Property in the manner provided by law, and without becoming liable to Tenant\\n\\xa0\\nfor damages or for any payment of any kind whatsoever. The landlord may, at\\n\\xa0\\nLandlord's discretion, as agent for Tenant, relet the Property, or any part thereof, for\\n\\xa0\\nthe whole or any part of the then unexpired term, and may receive and collect all\\n\\xa0\\nrent payable by virtue of such reletting, and, at Landlord's option, hold Tenant liable\\n\\xa0\\nfor any difference between the rent that would have been payable under this Lease\\n\\xa0\\nduring the balance of the unexpired term, if this Lease had continued in force, and\\n\\xa0\\nthe net rent for such period realized by Landlord by means of such reletting. If the\\n\\xa0\\nLandlord's right of reentry is exercised following the abandonment of the Property\\n\\xa0\\nby Tenant, then Landlord shall consider any personal property belonging to Tenant\\n\\xa0\\nand left on the Property to also have been abandoned, in which case Landlord may\\n\\xa0\\ndispose of all such personal property in any manner Landlord shall deem proper and\\n\\xa0\\nLandlord is hereby relieved of all liability for doing so.\\n\\xa0\\n\\xa0\\nATTORNEYS' FEES.\\u200b\\n Should it become necessary for Landlord to employ an attorney\\n\\xa0\\nto enforce any of the conditions or covenants hereof, including the collection of\\n\\xa0\\nrentals or gaining possession of the Property, Tenant agrees to pay all expenses so\\n\\xa0\\nincurred, including reasonable attorneys' fee.\\n\\xa0\\n\\xa0\\nCOMPLIANCE WITH LAW.\\u200b\\n The Tenant(s) agrees that during the term of the Lease,\\n\\xa0\\nto promptly comply with any present and future laws, ordinances, orders, rules,\\n\\xa0\\nregulations, and requirements of the Federal, State, County, City, and Municipal\\n\\xa0\\ngovernment or any of their departments, bureaus, boards, commissions, and officials\\n\\xa0\\nthereof with respect to the Property, or the use or occupancy thereof, whether said\\n\\xa0\\ncompliance shall be ordered or directed to or against the Tenant(s), the Landlord, or\\n\\xa0\\nboth.\\n\\xa0\\n\\xa0\\nSEVERABILITY.\\u200b\\n If any provision of this Lease or the application thereof shall, for any\\n\\xa0\\nreason and to any extent, be invalid or unenforceable, the remainder of this Lease or\\n\\xa0\\nthe application of the provision to other persons, entities, or\\n\\xa0\\ncircumstances shall be affected thereby, but instead shall be enforced to the\\n\\xa0\\nmaximum extent permitted by law.\\n\\xa0\\n\\xa0\", start_char_idx=None, end_char_idx=None, text_template='{metadata_str}\\n\\n{content}', metadata_template='{key}: {value}', metadata_seperator='\\n'),\n",
       " Document(id_='2b405058-f98f-47fc-9d5e-e3bc44eff2cc', embedding=None, metadata={'page_label': '7', 'file_name': 'standard-residential-lease-agreement-template.pdf', 'file_path': 'data\\\\standard-residential-lease-agreement-template.pdf', 'file_type': 'application/pdf', 'file_size': 144887, 'creation_date': '2025-03-03', 'last_modified_date': '2025-03-02', 'last_accessed_date': '2025-03-03'}, excluded_embed_metadata_keys=['file_name', 'file_type', 'file_size', 'creation_date', 'last_modified_date', 'last_accessed_date'], excluded_llm_metadata_keys=['file_name', 'file_type', 'file_size', 'creation_date', 'last_modified_date', 'last_accessed_date'], relationships={}, text='BINDING EFFECT\\u200b\\n. The covenants, obligations, and conditions herein contained shall\\n\\xa0\\nbe binding on and inure to the benefit of the heirs, legal representatives, and assigns\\n\\xa0\\nof the parties hereto.\\n\\xa0\\n\\xa0\\nMODIFICATION.\\u200b\\n The parties hereby agree that this document contains the entire\\n\\xa0\\nagreement between the parties and this Lease shall not be modified, changed,\\n\\xa0\\naltered, or amended in any way except through a written amendment signed by all\\n\\xa0\\nof the parties hereto.\\n\\xa0\\n\\xa0\\nNOTICE.\\u200b\\n Any notice required or permitted under this Lease or under state law shall\\n\\xa0\\nbe delivered to Tenant at the Property address, and to Landlord at the following\\n\\xa0\\naddress:___________________________________________________________________________.\\n\\xa0\\n\\xa0\\nPARKING.\\u200b\\n The Landlord:\\n\\xa0\\n☐\\n Shall provide ____ parking space(s) to the Tenant(s) for a fee of $____  to be paid \\n☐\\n\\xa0\\nat the execution of this Lease \\n☐\\n on a monthly basis in addition to the rent. The\\n\\xa0\\nparking space(s) are described as: ____________________.\\n\\xa0\\n☐\\n Shall not provide parking.\\n\\xa0\\n\\xa0\\n\\xa0\\nEARLY TERMINATION. \\u200b\\nThe Tenant(s):\\n\\xa0\\n☐\\n Shall have the right to terminate this Lease at any time by providing at least ____\\n\\xa0\\ndays’ written notice to the Landlord along with an early termination fee of $____.\\n\\xa0\\nDuring the notice period for termination, the Tenant(s) will remain responsible for\\n\\xa0\\nthe payment of rent.\\n\\xa0\\n☐\\n Shall not have the right to terminate this Lease.\\n\\xa0\\n\\xa0\\n\\xa0\\nSMOKING POLICY.\\u200b\\n Smoking on the Property is:\\n\\xa0\\n☐\\n Permitted in the following areas: ____________________.\\n\\xa0\\n☐\\n Prohibited on the Property.\\n\\xa0\\n\\xa0\\nDISPUTES.\\u200b\\n If a dispute arises during or after the term of this Lease between the\\n\\xa0\\nLandlord and Tenant(s), they shall agree to hold negotiations amongst themselves,\\n\\xa0\\nin \"good faith\", before any litigation.\\n\\xa0\\n\\xa0\\nRETALIATION.\\u200b\\n The Landlord is prohibited from making any type of retaliatory acts\\n\\xa0\\nagainst the Tenant(s) including but not limited to restricting access to the Property,\\n\\xa0\\ndecreasing or canceling services or utilities, failure to repair appliances or fixtures, or\\n\\xa0\\nany other type of activity that could be considered unjustified.\\n\\xa0\\n\\xa0\\nEQUAL HOUSING\\u200b\\n. If the Tenant(s) possesses any mental or physical impairment, the\\n\\xa0\\nLandlord shall provide reasonable modifications to the Property unless the\\n\\xa0\\nmodifications would be too difficult or expensive for the Landlord to provide. Any\\n\\xa0\\nimpairment(s) of the Tenant(s) are encouraged to be provided and presented to the\\n\\xa0', start_char_idx=None, end_char_idx=None, text_template='{metadata_str}\\n\\n{content}', metadata_template='{key}: {value}', metadata_seperator='\\n'),\n",
       " Document(id_='5d3435c5-0889-42c2-8f4e-c8439033741c', embedding=None, metadata={'page_label': '8', 'file_name': 'standard-residential-lease-agreement-template.pdf', 'file_path': 'data\\\\standard-residential-lease-agreement-template.pdf', 'file_type': 'application/pdf', 'file_size': 144887, 'creation_date': '2025-03-03', 'last_modified_date': '2025-03-02', 'last_accessed_date': '2025-03-03'}, excluded_embed_metadata_keys=['file_name', 'file_type', 'file_size', 'creation_date', 'last_modified_date', 'last_accessed_date'], excluded_llm_metadata_keys=['file_name', 'file_type', 'file_size', 'creation_date', 'last_modified_date', 'last_accessed_date'], relationships={}, text='Landlord in writing in order to seek the most appropriate route for providing the\\n\\xa0\\nmodifications to the Property.\\n\\xa0\\n\\xa0\\nPROPERTY DEEMED UNINHABITABLE.\\u200b\\n If the Property is deemed uninhabitable due\\n\\xa0\\nto damage beyond reasonable repair the Tenant(s) will be able to terminate this\\n\\xa0\\nLease by written notice to the Landlord. If said damage was due to the negligence of\\n\\xa0\\nthe Tenant(s), the Tenant(s) shall be liable to the Landlord for all repairs and for the\\n\\xa0\\nloss of income due to restoring the property back to a livable condition in addition to\\n\\xa0\\nany other losses that can be proved by the Landlord.\\n\\xa0\\n\\xa0\\nLEAD-BASED PAINT DISCLOSURE.\\u200b\\n If the Property was constructed prior to 1978,\\n\\xa0\\nTenant acknowledges receipt of the form entitled “LEAD-BASED PAINT\\n\\xa0\\nDISCLOSURE” which contains disclosure of information on lead-based paint and/or\\n\\xa0\\nlead-based paint hazards.\\n\\xa0\\n\\xa0\\nENTIRE AGREEMENT.\\u200b\\n This Lease and, if any, attached documents are the complete\\n\\xa0\\nagreement between the Landlord and Tenant concerning the Property and the total\\n\\xa0\\nbuilding facilities. There are no oral agreements, understandings, promises, or\\n\\xa0\\nrepresentations between the landlord and tenant affecting this Lease. All prior\\n\\xa0\\nnegotiations and understandings, if any, between the parties hereto with respect to\\n\\xa0\\nthe Property and the total building facilities shall be of no force or effect and shall\\n\\xa0\\nnot be used to interpret this Lease.\\n\\xa0\\n\\xa0\\nIN WITNESS WHEREOF,\\u200b\\n the Landlord and Tenant have executed this Lease in\\n\\xa0\\nmultiple originals as of the undersigned date(s).\\n\\xa0\\n\\xa0\\n\\xa0\\nLandlord’s Signature\\u200b\\n ____________________________ Date _____________________\\n\\xa0\\nPrint Name _______________________\\n\\xa0\\n\\xa0\\nTenant’s Signature\\u200b\\n ____________________________ Date _____________________\\n\\xa0\\nPrint Name _______________________\\n\\xa0\\n\\xa0\\nTenant’s Signature\\u200b\\n ____________________________ Date _____________________\\n\\xa0\\nPrint Name _______________________\\n\\xa0\\n\\xa0\\nTenant’s Signature\\u200b\\n ____________________________ Date _____________________\\n\\xa0\\nPrint Name _______________________\\n\\xa0\\n\\xa0', start_char_idx=None, end_char_idx=None, text_template='{metadata_str}\\n\\n{content}', metadata_template='{key}: {value}', metadata_seperator='\\n')]"
      ]
     },
     "execution_count": 4,
     "metadata": {},
     "output_type": "execute_result"
    }
   ],
   "source": [
    "documents"
   ]
  },
  {
   "cell_type": "code",
   "execution_count": 5,
   "metadata": {},
   "outputs": [
    {
     "name": "stderr",
     "output_type": "stream",
     "text": [
      "c:\\Users\\amaan\\Desktop\\RAG Chatbot\\basic_rag_venv\\Lib\\site-packages\\tqdm\\auto.py:21: TqdmWarning: IProgress not found. Please update jupyter and ipywidgets. See https://ipywidgets.readthedocs.io/en/stable/user_install.html\n",
      "  from .autonotebook import tqdm as notebook_tqdm\n",
      "Parsing nodes: 100%|██████████| 8/8 [00:00<00:00, 1038.39it/s]\n",
      "Generating embeddings: 100%|██████████| 8/8 [00:01<00:00,  4.22it/s]\n"
     ]
    }
   ],
   "source": [
    "index=VectorStoreIndex.from_documents(documents,show_progress=True)"
   ]
  },
  {
   "cell_type": "code",
   "execution_count": 6,
   "metadata": {},
   "outputs": [
    {
     "data": {
      "text/plain": [
       "<llama_index.indices.vector_store.base.VectorStoreIndex at 0x1d1c34cefd0>"
      ]
     },
     "execution_count": 6,
     "metadata": {},
     "output_type": "execute_result"
    }
   ],
   "source": [
    "index"
   ]
  },
  {
   "cell_type": "code",
   "execution_count": 7,
   "metadata": {},
   "outputs": [],
   "source": [
    "query_engine=index.as_query_engine()"
   ]
  },
  {
   "cell_type": "code",
   "execution_count": 8,
   "metadata": {},
   "outputs": [],
   "source": [
    "from llama_index.retrievers import VectorIndexRetriever\n",
    "from llama_index.query_engine import RetrieverQueryEngine\n",
    "from llama_index.indices.postprocessor import SimilarityPostprocessor\n",
    "\n",
    "retriever=VectorIndexRetriever(index=index,similarity_top_k=4)\n",
    "postprocessor=SimilarityPostprocessor(similarity_cutoff=0.80)\n",
    "\n",
    "query_engine=RetrieverQueryEngine(retriever=retriever,\n",
    "                                  node_postprocessors=[postprocessor])\n"
   ]
  },
  {
   "cell_type": "code",
   "execution_count": 9,
   "metadata": {},
   "outputs": [
    {
     "name": "stdout",
     "output_type": "stream",
     "text": [
      "The Landlord is prohibited from making any type of retaliatory acts against the Tenant(s) including but not limited to restricting access to the Property, decreasing or canceling services or utilities, failure to repair appliances or fixtures, or any other type of activity that could be considered unjustified.\n"
     ]
    }
   ],
   "source": [
    "import os.path\n",
    "from llama_index import (\n",
    "    VectorStoreIndex,\n",
    "    SimpleDirectoryReader,\n",
    "    StorageContext,\n",
    "    load_index_from_storage,\n",
    ")\n",
    "\n",
    "# check if storage already exists\n",
    "PERSIST_DIR = \"./storage\"\n",
    "if not os.path.exists(PERSIST_DIR):\n",
    "    # load the documents and create the index\n",
    "    documents = SimpleDirectoryReader(\"data\").load_data()\n",
    "    index = VectorStoreIndex.from_documents(documents)\n",
    "    # store it for later\n",
    "    index.storage_context.persist(persist_dir=PERSIST_DIR)\n",
    "else:\n",
    "    # load the existing index\n",
    "    storage_context = StorageContext.from_defaults(persist_dir=PERSIST_DIR)\n",
    "    index = load_index_from_storage(storage_context)\n",
    "\n",
    "# either way we can now query the index\n",
    "query_engine = index.as_query_engine()\n",
    "response = query_engine.query(\"What is the stance on retaliatory acts?\")\n",
    "print(response)"
   ]
  },
  {
   "cell_type": "code",
   "execution_count": null,
   "metadata": {},
   "outputs": [],
   "source": []
  },
  {
   "cell_type": "code",
   "execution_count": null,
   "metadata": {},
   "outputs": [],
   "source": []
  },
  {
   "cell_type": "code",
   "execution_count": null,
   "metadata": {},
   "outputs": [],
   "source": []
  },
  {
   "cell_type": "code",
   "execution_count": null,
   "metadata": {},
   "outputs": [],
   "source": []
  },
  {
   "cell_type": "code",
   "execution_count": null,
   "metadata": {},
   "outputs": [],
   "source": []
  },
  {
   "cell_type": "code",
   "execution_count": null,
   "metadata": {},
   "outputs": [],
   "source": []
  }
 ],
 "metadata": {
  "kernelspec": {
   "display_name": "basic_rag_venv",
   "language": "python",
   "name": "python3"
  },
  "language_info": {
   "codemirror_mode": {
    "name": "ipython",
    "version": 3
   },
   "file_extension": ".py",
   "mimetype": "text/x-python",
   "name": "python",
   "nbconvert_exporter": "python",
   "pygments_lexer": "ipython3",
   "version": "3.11.9"
  }
 },
 "nbformat": 4,
 "nbformat_minor": 2
}
